{
 "cells": [
  {
   "cell_type": "code",
   "execution_count": 2,
   "metadata": {},
   "outputs": [],
   "source": [
    "import pandas as pd"
   ]
  },
  {
   "cell_type": "code",
   "execution_count": 3,
   "metadata": {},
   "outputs": [
    {
     "data": {
      "text/html": [
       "<div>\n",
       "<style scoped>\n",
       "    .dataframe tbody tr th:only-of-type {\n",
       "        vertical-align: middle;\n",
       "    }\n",
       "\n",
       "    .dataframe tbody tr th {\n",
       "        vertical-align: top;\n",
       "    }\n",
       "\n",
       "    .dataframe thead th {\n",
       "        text-align: right;\n",
       "    }\n",
       "</style>\n",
       "<table border=\"1\" class=\"dataframe\">\n",
       "  <thead>\n",
       "    <tr style=\"text-align: right;\">\n",
       "      <th></th>\n",
       "      <th>partner</th>\n",
       "      <th>course</th>\n",
       "      <th>skills</th>\n",
       "      <th>rating</th>\n",
       "      <th>reviewcount</th>\n",
       "      <th>level</th>\n",
       "      <th>certificatetype</th>\n",
       "      <th>duration</th>\n",
       "      <th>crediteligibility</th>\n",
       "    </tr>\n",
       "  </thead>\n",
       "  <tbody>\n",
       "    <tr>\n",
       "      <th>0</th>\n",
       "      <td>Google</td>\n",
       "      <td>Google Cybersecurity</td>\n",
       "      <td>{\" Network Security\",\" Python Programming\",\" L...</td>\n",
       "      <td>4.8</td>\n",
       "      <td>16.4k</td>\n",
       "      <td>Beginner</td>\n",
       "      <td>Professional Certificate</td>\n",
       "      <td>3 - 6 Months</td>\n",
       "      <td>False</td>\n",
       "    </tr>\n",
       "    <tr>\n",
       "      <th>1</th>\n",
       "      <td>Google</td>\n",
       "      <td>Google Data Analytics</td>\n",
       "      <td>{\" Data Analysis\",\" R Programming\",\" SQL\",\" Bu...</td>\n",
       "      <td>4.8</td>\n",
       "      <td>133.4k</td>\n",
       "      <td>Beginner</td>\n",
       "      <td>Professional Certificate</td>\n",
       "      <td>3 - 6 Months</td>\n",
       "      <td>True</td>\n",
       "    </tr>\n",
       "    <tr>\n",
       "      <th>2</th>\n",
       "      <td>Google</td>\n",
       "      <td>Google Project Management:</td>\n",
       "      <td>{\" Project Management\",\" Strategy and Operatio...</td>\n",
       "      <td>4.8</td>\n",
       "      <td>97.3k</td>\n",
       "      <td>Beginner</td>\n",
       "      <td>Professional Certificate</td>\n",
       "      <td>3 - 6 Months</td>\n",
       "      <td>True</td>\n",
       "    </tr>\n",
       "    <tr>\n",
       "      <th>3</th>\n",
       "      <td>Google</td>\n",
       "      <td>Google Digital Marketing &amp; E-commerce</td>\n",
       "      <td>{\" Digital Marketing\",\" Marketing\",\" Marketing...</td>\n",
       "      <td>4.8</td>\n",
       "      <td>21.4k</td>\n",
       "      <td>Beginner</td>\n",
       "      <td>Professional Certificate</td>\n",
       "      <td>3 - 6 Months</td>\n",
       "      <td>False</td>\n",
       "    </tr>\n",
       "    <tr>\n",
       "      <th>4</th>\n",
       "      <td>Google</td>\n",
       "      <td>Google IT Support</td>\n",
       "      <td>{\" Computer Networking\",\" Network Architecture...</td>\n",
       "      <td>4.8</td>\n",
       "      <td>181.4k</td>\n",
       "      <td>Beginner</td>\n",
       "      <td>Professional Certificate</td>\n",
       "      <td>3 - 6 Months</td>\n",
       "      <td>True</td>\n",
       "    </tr>\n",
       "  </tbody>\n",
       "</table>\n",
       "</div>"
      ],
      "text/plain": [
       "  partner                                 course  \\\n",
       "0  Google                   Google Cybersecurity   \n",
       "1  Google                  Google Data Analytics   \n",
       "2  Google             Google Project Management:   \n",
       "3  Google  Google Digital Marketing & E-commerce   \n",
       "4  Google                      Google IT Support   \n",
       "\n",
       "                                              skills  rating reviewcount  \\\n",
       "0  {\" Network Security\",\" Python Programming\",\" L...     4.8       16.4k   \n",
       "1  {\" Data Analysis\",\" R Programming\",\" SQL\",\" Bu...     4.8      133.4k   \n",
       "2  {\" Project Management\",\" Strategy and Operatio...     4.8       97.3k   \n",
       "3  {\" Digital Marketing\",\" Marketing\",\" Marketing...     4.8       21.4k   \n",
       "4  {\" Computer Networking\",\" Network Architecture...     4.8      181.4k   \n",
       "\n",
       "       level             certificatetype       duration  crediteligibility  \n",
       "0  Beginner    Professional Certificate    3 - 6 Months              False  \n",
       "1  Beginner    Professional Certificate    3 - 6 Months               True  \n",
       "2  Beginner    Professional Certificate    3 - 6 Months               True  \n",
       "3  Beginner    Professional Certificate    3 - 6 Months              False  \n",
       "4  Beginner    Professional Certificate    3 - 6 Months               True  "
      ]
     },
     "execution_count": 3,
     "metadata": {},
     "output_type": "execute_result"
    }
   ],
   "source": [
    "data = pd.read_csv(\"../dataset/Coursera.csv\")\n",
    "data.head()"
   ]
  },
  {
   "cell_type": "code",
   "execution_count": 5,
   "metadata": {},
   "outputs": [
    {
     "name": "stdout",
     "output_type": "stream",
     "text": [
      "<class 'pandas.core.frame.DataFrame'>\n",
      "RangeIndex: 1139 entries, 0 to 1138\n",
      "Data columns (total 9 columns):\n",
      " #   Column             Non-Null Count  Dtype  \n",
      "---  ------             --------------  -----  \n",
      " 0   partner            1139 non-null   object \n",
      " 1   course             1139 non-null   object \n",
      " 2   skills             1088 non-null   object \n",
      " 3   rating             993 non-null    float64\n",
      " 4   reviewcount        993 non-null    object \n",
      " 5   level              1004 non-null   object \n",
      " 6   certificatetype    1116 non-null   object \n",
      " 7   duration           1116 non-null   object \n",
      " 8   crediteligibility  1139 non-null   bool   \n",
      "dtypes: bool(1), float64(1), object(7)\n",
      "memory usage: 72.4+ KB\n"
     ]
    }
   ],
   "source": [
    "data.info()"
   ]
  }
 ],
 "metadata": {
  "kernelspec": {
   "display_name": "Python 3",
   "language": "python",
   "name": "python3"
  },
  "language_info": {
   "codemirror_mode": {
    "name": "ipython",
    "version": 3
   },
   "file_extension": ".py",
   "mimetype": "text/x-python",
   "name": "python",
   "nbconvert_exporter": "python",
   "pygments_lexer": "ipython3",
   "version": "3.9.13"
  }
 },
 "nbformat": 4,
 "nbformat_minor": 2
}
