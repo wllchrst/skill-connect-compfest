{
 "cells": [
  {
   "cell_type": "code",
   "execution_count": 1,
   "metadata": {},
   "outputs": [],
   "source": [
    "import pandas as pd\n",
    "from sklearn.preprocessing import OneHotEncoder, MultiLabelBinarizer, StandardScaler\n",
    "import numpy as np"
   ]
  },
  {
   "cell_type": "code",
   "execution_count": 2,
   "metadata": {},
   "outputs": [],
   "source": [
    "data = pd.read_csv('../dataset/user-data-cleaned.csv')"
   ]
  },
  {
   "cell_type": "code",
   "execution_count": 3,
   "metadata": {},
   "outputs": [],
   "source": [
    "encoder = OneHotEncoder()\n",
    "multilabel_binarizer = MultiLabelBinarizer()\n",
    "scaler = StandardScaler()"
   ]
  },
  {
   "cell_type": "code",
   "execution_count": 4,
   "metadata": {},
   "outputs": [],
   "source": [
    "encoded_education = encoder.fit_transform(data[['currentEducation']])\n",
    "encoded_language = encoder.fit_transform(data[['language']])"
   ]
  },
  {
   "cell_type": "code",
   "execution_count": 5,
   "metadata": {},
   "outputs": [],
   "source": [
    "encoded_interests = multilabel_binarizer.fit_transform(data['interest_list'])\n",
    "encoded_skills = multilabel_binarizer.fit_transform(data['skill_list'])\n",
    "encoded_learning_resources = multilabel_binarizer.fit_transform(data['learningResource_list'])\n",
    "encoded_tools = multilabel_binarizer.fit_transform(data['tools_list'])"
   ]
  },
  {
   "cell_type": "code",
   "execution_count": 6,
   "metadata": {},
   "outputs": [],
   "source": [
    "normalized_experience = scaler.fit_transform(data[['experienceYears']])"
   ]
  },
  {
   "cell_type": "code",
   "execution_count": 7,
   "metadata": {},
   "outputs": [
    {
     "ename": "ValueError",
     "evalue": "all the input arrays must have same number of dimensions, but the array at index 0 has 2 dimension(s) and the array at index 1 has 1 dimension(s)",
     "output_type": "error",
     "traceback": [
      "\u001b[1;31m---------------------------------------------------------------------------\u001b[0m",
      "\u001b[1;31mValueError\u001b[0m                                Traceback (most recent call last)",
      "Cell \u001b[1;32mIn[7], line 1\u001b[0m\n\u001b[1;32m----> 1\u001b[0m user_features \u001b[38;5;241m=\u001b[39m np\u001b[38;5;241m.\u001b[39mhstack((\n\u001b[0;32m      2\u001b[0m     normalized_experience,\n\u001b[0;32m      3\u001b[0m     encoded_education,\n\u001b[0;32m      4\u001b[0m     encoded_language,\n\u001b[0;32m      5\u001b[0m     encoded_interests,\n\u001b[0;32m      6\u001b[0m     encoded_skills,\n\u001b[0;32m      7\u001b[0m     encoded_learning_resources,\n\u001b[0;32m      8\u001b[0m     encoded_tools\n\u001b[0;32m      9\u001b[0m ))\n\u001b[0;32m     11\u001b[0m \u001b[38;5;66;03m# Final preprocessed data\u001b[39;00m\n\u001b[0;32m     12\u001b[0m \u001b[38;5;28mprint\u001b[39m(user_features)\n",
      "File \u001b[1;32mc:\\Users\\LM23-2\\AppData\\Local\\anaconda3\\Lib\\site-packages\\numpy\\core\\shape_base.py:359\u001b[0m, in \u001b[0;36mhstack\u001b[1;34m(tup, dtype, casting)\u001b[0m\n\u001b[0;32m    357\u001b[0m     \u001b[38;5;28;01mreturn\u001b[39;00m _nx\u001b[38;5;241m.\u001b[39mconcatenate(arrs, \u001b[38;5;241m0\u001b[39m, dtype\u001b[38;5;241m=\u001b[39mdtype, casting\u001b[38;5;241m=\u001b[39mcasting)\n\u001b[0;32m    358\u001b[0m \u001b[38;5;28;01melse\u001b[39;00m:\n\u001b[1;32m--> 359\u001b[0m     \u001b[38;5;28;01mreturn\u001b[39;00m _nx\u001b[38;5;241m.\u001b[39mconcatenate(arrs, \u001b[38;5;241m1\u001b[39m, dtype\u001b[38;5;241m=\u001b[39mdtype, casting\u001b[38;5;241m=\u001b[39mcasting)\n",
      "\u001b[1;31mValueError\u001b[0m: all the input arrays must have same number of dimensions, but the array at index 0 has 2 dimension(s) and the array at index 1 has 1 dimension(s)"
     ]
    }
   ],
   "source": [
    "user_features = np.hstack((\n",
    "    normalized_experience,\n",
    "    encoded_education,\n",
    "    encoded_language,\n",
    "    encoded_interests,\n",
    "    encoded_skills,\n",
    "    encoded_learning_resources,\n",
    "    encoded_tools\n",
    "))\n",
    "\n",
    "# Final preprocessed data\n",
    "print(user_features)"
   ]
  }
 ],
 "metadata": {
  "kernelspec": {
   "display_name": "base",
   "language": "python",
   "name": "python3"
  },
  "language_info": {
   "codemirror_mode": {
    "name": "ipython",
    "version": 3
   },
   "file_extension": ".py",
   "mimetype": "text/x-python",
   "name": "python",
   "nbconvert_exporter": "python",
   "pygments_lexer": "ipython3",
   "version": "3.12.4"
  }
 },
 "nbformat": 4,
 "nbformat_minor": 2
}
